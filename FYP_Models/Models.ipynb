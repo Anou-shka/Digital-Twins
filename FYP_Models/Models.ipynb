{
 "cells": [
  {
   "cell_type": "code",
   "execution_count": 10,
   "metadata": {},
   "outputs": [],
   "source": [
    "import pandas as pd\n",
    "import numpy as np\n",
    "\n",
    "data = pd.read_csv('/Users/anoushkanahata/Desktop/FYP/Digital-Twins/mock_sensor_data.csv')"
   ]
  },
  {
   "cell_type": "code",
   "execution_count": 11,
   "metadata": {},
   "outputs": [
    {
     "data": {
      "text/html": [
       "<div>\n",
       "<style scoped>\n",
       "    .dataframe tbody tr th:only-of-type {\n",
       "        vertical-align: middle;\n",
       "    }\n",
       "\n",
       "    .dataframe tbody tr th {\n",
       "        vertical-align: top;\n",
       "    }\n",
       "\n",
       "    .dataframe thead th {\n",
       "        text-align: right;\n",
       "    }\n",
       "</style>\n",
       "<table border=\"1\" class=\"dataframe\">\n",
       "  <thead>\n",
       "    <tr style=\"text-align: right;\">\n",
       "      <th></th>\n",
       "      <th>Timestamp</th>\n",
       "      <th>Pressure (kPa)</th>\n",
       "      <th>CO2 (ppm)</th>\n",
       "      <th>Occupancy</th>\n",
       "      <th>Temperature (°C)</th>\n",
       "      <th>Humidity (%)</th>\n",
       "    </tr>\n",
       "  </thead>\n",
       "  <tbody>\n",
       "    <tr>\n",
       "      <th>0</th>\n",
       "      <td>2025-02-13 22:47:58.826469</td>\n",
       "      <td>1.945</td>\n",
       "      <td>585</td>\n",
       "      <td>6</td>\n",
       "      <td>22.31</td>\n",
       "      <td>46.8</td>\n",
       "    </tr>\n",
       "    <tr>\n",
       "      <th>1</th>\n",
       "      <td>2025-02-13 22:48:58.826469</td>\n",
       "      <td>0.359</td>\n",
       "      <td>541</td>\n",
       "      <td>5</td>\n",
       "      <td>21.08</td>\n",
       "      <td>33.5</td>\n",
       "    </tr>\n",
       "    <tr>\n",
       "      <th>2</th>\n",
       "      <td>2025-02-13 22:49:58.826469</td>\n",
       "      <td>1.979</td>\n",
       "      <td>650</td>\n",
       "      <td>4</td>\n",
       "      <td>20.52</td>\n",
       "      <td>34.1</td>\n",
       "    </tr>\n",
       "    <tr>\n",
       "      <th>3</th>\n",
       "      <td>2025-02-13 22:50:58.826469</td>\n",
       "      <td>1.293</td>\n",
       "      <td>904</td>\n",
       "      <td>4</td>\n",
       "      <td>22.86</td>\n",
       "      <td>42.0</td>\n",
       "    </tr>\n",
       "    <tr>\n",
       "      <th>4</th>\n",
       "      <td>2025-02-13 22:51:58.826469</td>\n",
       "      <td>1.311</td>\n",
       "      <td>775</td>\n",
       "      <td>1</td>\n",
       "      <td>24.64</td>\n",
       "      <td>30.9</td>\n",
       "    </tr>\n",
       "  </tbody>\n",
       "</table>\n",
       "</div>"
      ],
      "text/plain": [
       "                    Timestamp  Pressure (kPa)  CO2 (ppm)  Occupancy  \\\n",
       "0  2025-02-13 22:47:58.826469           1.945        585          6   \n",
       "1  2025-02-13 22:48:58.826469           0.359        541          5   \n",
       "2  2025-02-13 22:49:58.826469           1.979        650          4   \n",
       "3  2025-02-13 22:50:58.826469           1.293        904          4   \n",
       "4  2025-02-13 22:51:58.826469           1.311        775          1   \n",
       "\n",
       "   Temperature (°C)  Humidity (%)  \n",
       "0             22.31          46.8  \n",
       "1             21.08          33.5  \n",
       "2             20.52          34.1  \n",
       "3             22.86          42.0  \n",
       "4             24.64          30.9  "
      ]
     },
     "execution_count": 11,
     "metadata": {},
     "output_type": "execute_result"
    }
   ],
   "source": [
    "data.head()"
   ]
  },
  {
   "cell_type": "code",
   "execution_count": 12,
   "metadata": {},
   "outputs": [],
   "source": [
    "def calculate_risk(co2, occupancy, airflow, exposure_time=60, room_volume=100):\n",
    "    # Define the infectious dose and other parameters\n",
    "    I = 0.000001  # Example value for infectious dose\n",
    "    C = airflow  # Airflow rate in m³/min\n",
    "    V = room_volume  # Volume of the room in m³\n",
    "    t = exposure_time  # Exposure time in minutes\n",
    "    P = 1 - np.exp(-I * t / (V * C))  # Infection probability formula\n",
    "    return P"
   ]
  },
  {
   "cell_type": "code",
   "execution_count": null,
   "metadata": {},
   "outputs": [],
   "source": []
  }
 ],
 "metadata": {
  "kernelspec": {
   "display_name": "with-tensorflow",
   "language": "python",
   "name": "with-tensorflow"
  },
  "language_info": {
   "codemirror_mode": {
    "name": "ipython",
    "version": 3
   },
   "file_extension": ".py",
   "mimetype": "text/x-python",
   "name": "python",
   "nbconvert_exporter": "python",
   "pygments_lexer": "ipython3",
   "version": "3.12.1"
  }
 },
 "nbformat": 4,
 "nbformat_minor": 2
}
