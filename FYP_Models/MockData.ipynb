{
 "cells": [
  {
   "cell_type": "code",
   "execution_count": 26,
   "metadata": {},
   "outputs": [],
   "source": [
    "import pandas as pd\n",
    "import numpy as np\n",
    "import matplotlib.pyplot as plt\n",
    "from statsmodels.tsa.arima.model import ARIMA\n",
    "from sklearn.metrics import mean_absolute_error\n",
    "import random\n",
    "from datetime import datetime, timedelta"
   ]
  },
  {
   "cell_type": "code",
   "execution_count": 27,
   "metadata": {},
   "outputs": [],
   "source": [
    "\n",
    "\n",
    "# Number of data points to generate\n",
    "num_data_points = 500\n",
    "\n",
    "# Generate timestamps in chronological order\n",
    "start_time = datetime.now()\n",
    "timestamps = [start_time + timedelta(minutes=i) for i in range(num_data_points)]\n",
    "\n",
    "# Function to generate mock data for each sensor\n",
    "def generate_mock_data(index):\n",
    "    # MPXV7002DP (Pressure sensor) - Range: 0 to 2 kPa\n",
    "    pressure = round(random.uniform(0, 2), 3)\n",
    "    \n",
    "    # MH-Z19C (CO2 sensor) - Range: 0 to 5000 ppm\n",
    "    co2 = random.randint(400, 1000)\n",
    "    \n",
    "    # E18-D80NK (IR Proximity sensor) - Range: 3 to 80 cm\n",
    "    occupancy = random.randint(0, 6)\n",
    "    \n",
    "    # DHT22 (Temperature and Humidity sensor)\n",
    "    temperature = round(random.uniform(20, 25), 2)  # Temperature range: -40 to +80 °C\n",
    "    humidity = round(random.uniform(30, 50), 1)  # Humidity range: 0 to 100 %\n",
    "    \n",
    "    timestamp = timestamps[index]\n",
    "    return [timestamp, pressure, co2, occupancy, temperature, humidity]\n",
    "\n",
    "# Create mock sensor data\n",
    "data = [generate_mock_data(i) for i in range(num_data_points)]\n",
    "\n",
    "# Convert to DataFrame\n",
    "df = pd.DataFrame(data, columns=['Timestamp', 'Pressure (kPa)', 'CO2 (ppm)', 'Occupancy', 'Temperature (°C)', 'Humidity (%)'])\n",
    "\n",
    "\n",
    "# Create CSV file and write the header\n",
    "filename = \"mock_sensor_data.csv\"\n",
    "header = ['Timestamp','Pressure (kPa)', 'CO2 (ppm)', 'Occupancy', 'Temperature (°C)', 'Humidity (%)']"
   ]
  },
  {
   "cell_type": "code",
   "execution_count": 28,
   "metadata": {},
   "outputs": [
    {
     "data": {
      "text/plain": [
       "'mock_sensor_data.csv'"
      ]
     },
     "execution_count": 28,
     "metadata": {},
     "output_type": "execute_result"
    }
   ],
   "source": [
    "with open(filename, mode='w', newline='') as file:\n",
    "    writer = csv.writer(file)\n",
    "    writer.writerow(header)\n",
    "    \n",
    "    # Generate and write data points\n",
    "    for i in range(num_data_points):\n",
    "        writer.writerow(generate_mock_data(i))\n",
    "\n",
    "filename\n"
   ]
  }
 ],
 "metadata": {
  "kernelspec": {
   "display_name": "with-tensorflow",
   "language": "python",
   "name": "with-tensorflow"
  },
  "language_info": {
   "codemirror_mode": {
    "name": "ipython",
    "version": 3
   },
   "file_extension": ".py",
   "mimetype": "text/x-python",
   "name": "python",
   "nbconvert_exporter": "python",
   "pygments_lexer": "ipython3",
   "version": "3.12.1"
  }
 },
 "nbformat": 4,
 "nbformat_minor": 2
}
